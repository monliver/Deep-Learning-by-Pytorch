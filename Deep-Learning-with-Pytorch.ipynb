{
  "cells": [
    {
      "cell_type": "markdown",
      "metadata": {
        "id": "gpEx-Jd1pYlP"
      },
      "source": [
        "##Deep Learning with Pytorch - Homework\n"
      ]
    },
    {
      "cell_type": "markdown",
      "metadata": {
        "id": "RY5BOTyRg4Qf"
      },
      "source": [
        "## Import the required Libraries"
      ]
    },
    {
      "cell_type": "code",
      "execution_count": null,
      "metadata": {
        "id": "6diQ4Pfug3uw"
      },
      "outputs": [],
      "source": [
        "import pandas as pd\n",
        "import numpy as np\n",
        "import matplotlib.pyplot as plt\n",
        "import seaborn as sns\n",
        "from matplotlib import cm\n",
        "from sklearn.model_selection import train_test_split\n",
        "import torch\n",
        "import torchvision\n",
        "from torchvision import transforms, utils\n",
        "import torch.nn as nn\n",
        "import torch.optim as optim\n",
        "import torchvision.transforms as transforms\n",
        "from collections import Counter\n",
        "from PIL import Image\n",
        "from skimage import io, transform\n",
        "import os\n",
        "from torchvision.io import read_image\n",
        "from torch.utils.data import Dataset, DataLoader\n",
        "from collections import Counter\n",
        "from google.colab import drive"
      ]
    },
    {
      "cell_type": "markdown",
      "metadata": {
        "id": "xq7rZTSc0xoq"
      },
      "source": [
        "## Set up GPU capabilities\n"
      ]
    },
    {
      "cell_type": "markdown",
      "metadata": {
        "id": "jUvWZZQE0xo8"
      },
      "source": [
        "you can create a PyTorch tensor `T` that resides on the GPU using the command `T = torch.Tensor(..., device=cuda)`.\n",
        "You can also copy existing tensors to the GPU with the command `T = T.to(device)` (make sure to overwrite `T` with the result of this function call). If you do not have a GPU, these commands will still work."
      ]
    },
    {
      "cell_type": "code",
      "execution_count": null,
      "metadata": {
        "colab": {
          "base_uri": "https://localhost:8080/"
        },
        "id": "9Gvv3LVN0xo-",
        "outputId": "1b75ffb5-42a1-40a3-c5e0-b6e131113503"
      },
      "outputs": [
        {
          "output_type": "stream",
          "name": "stdout",
          "text": [
            "2.2.1+cu121\n",
            "cuda:0\n"
          ]
        }
      ],
      "source": [
        "# DO NOT MODIFY\n",
        "torch.manual_seed(42) # For grading consistency\n",
        "device = torch.device(\"cuda:0\" if torch.cuda.is_available() else \"cpu\")\n",
        "print(torch.__version__)\n",
        "print(device)"
      ]
    },
    {
      "cell_type": "code",
      "execution_count": null,
      "metadata": {
        "colab": {
          "base_uri": "https://localhost:8080/"
        },
        "id": "ZO8Hr0MIw_KK",
        "outputId": "9fe44f80-74d2-4bea-dd5e-2d5e3fd46eff"
      },
      "outputs": [
        {
          "output_type": "execute_result",
          "data": {
            "text/plain": [
              "device(type='cuda', index=0)"
            ]
          },
          "metadata": {},
          "execution_count": 6
        }
      ],
      "source": [
        "device"
      ]
    },
    {
      "cell_type": "markdown",
      "metadata": {
        "id": "EnlOxnsy1TtK"
      },
      "source": [
        "# **Part 1:** Data Preprocessing and Preparation for Modeling in `PyTorch`\n"
      ]
    },
    {
      "cell_type": "markdown",
      "metadata": {
        "id": "kXE0i7d8SHS2"
      },
      "source": [
        "## 1.1 Pytorch Dataset and DataLoader\n"
      ]
    },
    {
      "cell_type": "markdown",
      "metadata": {
        "id": "u_EYA1pQSHS7"
      },
      "source": [
        "### 1.1.1 Instantiate Dataset (for train/test dataset)\n",
        "This script preprocesses the MNIST dataset by applying transformations, creating downsampled subsets for training and testing."
      ]
    },
    {
      "cell_type": "code",
      "execution_count": null,
      "metadata": {
        "id": "Y3mN0QNRSHS7"
      },
      "outputs": [],
      "source": [
        "scale = 28\n",
        "\n",
        "import torchvision.transforms as transforms\n",
        "\n",
        "# Define distortion scale for RandomPerspective\n",
        "distortion_scale = 0.3\n",
        "\n",
        "# Define transformations\n",
        "transform = transforms.Compose([\n",
        "    transforms.Resize((28, 28)),\n",
        "    transforms.ToTensor(),\n",
        "    transforms.RandomRotation((-45, 45)),\n",
        "    transforms.RandomPerspective(distortion_scale),\n",
        "    transforms.Normalize((0.1307,), (0.3081,))\n",
        "])\n"
      ]
    },
    {
      "cell_type": "code",
      "execution_count": null,
      "metadata": {
        "id": "mp6MJPMySHS8"
      },
      "outputs": [],
      "source": [
        "\n",
        "import torch\n",
        "from torchvision import datasets\n",
        "from torch.utils.data import Subset\n",
        "\n",
        "# Initialize Dataset object for the training set\n",
        "train_dataset = datasets.MNIST(root='./data', train=True, download=True, transform=transform)\n",
        "\n",
        "# Downsample training set\n",
        "train_indices = torch.arange(0, len(train_dataset), step=2)\n",
        "train_subset = Subset(train_dataset, train_indices)\n",
        "\n",
        "# Initialize Dataset object for the testing set\n",
        "test_dataset = datasets.MNIST(root='./data', train=False, download=True, transform=transform)\n",
        "\n",
        "# Downsample testing set\n",
        "test_indices = torch.arange(0, len(test_dataset), step=2)\n",
        "test_subset = Subset(test_dataset, test_indices)"
      ]
    },
    {
      "cell_type": "markdown",
      "metadata": {
        "id": "xMB-Cy3TSHS8"
      },
      "source": [
        "### 1.1.2 Dataloader - Train / Test"
      ]
    },
    {
      "cell_type": "code",
      "execution_count": null,
      "metadata": {
        "id": "TOzRzIRwSHS9"
      },
      "outputs": [],
      "source": [
        "batch = 64\n",
        "# Initialize DataLoader object for train_subset\n",
        "from torch.utils.data import DataLoader\n",
        "train_loader = DataLoader(train_subset, batch_size=batch, shuffle=True, num_workers=0)\n",
        "\n",
        "# Initialize DataLoader object for test_subset\n",
        "test_loader = DataLoader(test_subset, batch_size=batch, shuffle=True, num_workers=0)"
      ]
    },
    {
      "cell_type": "markdown",
      "metadata": {
        "id": "i3Vub3boSNj-"
      },
      "source": [
        "## 1.2 Summarizing our Dataset"
      ]
    },
    {
      "cell_type": "markdown",
      "metadata": {
        "id": "1-FMAUdWSNj_"
      },
      "source": [
        "### 1.2.1 Looking at the distribution of labels\n",
        "This script creates DataLoaders for downsampled MNIST training and testing subsets, then counts and prints the label frequencies in both subsets."
      ]
    },
    {
      "cell_type": "code",
      "execution_count": null,
      "metadata": {
        "colab": {
          "base_uri": "https://localhost:8080/"
        },
        "id": "L3Wo6ww4SNj_",
        "outputId": "e6ada93c-94af-430e-edd2-ef7a6e7eb394"
      },
      "outputs": [
        {
          "output_type": "stream",
          "name": "stdout",
          "text": [
            "{1: 3370, 4: 2958, 9: 3005, 2: 2996, 5: 2841, 0: 2819, 6: 2994, 7: 3149, 8: 2883, 3: 2985}\n"
          ]
        }
      ],
      "source": [
        "from torch.utils.data import DataLoader\n",
        "# Use the original train dataset (with 60,000 images) object to obtain the number of label classes train data\n",
        "train_num_labels = len(train_dataset.classes)\n",
        "\n",
        "# Creating DataLoader for train subset\n",
        "train_loader_bar_plot = DataLoader(train_subset, batch_size=len(train_subset), shuffle=True, num_workers=0)\n",
        "\n",
        "# Creating dictionary for train dataset\n",
        "train_subset_dict = {}\n",
        "for _, labels in train_loader_bar_plot:\n",
        "    for label in labels:\n",
        "        label = label.item()\n",
        "        if label in train_subset_dict:\n",
        "            train_subset_dict[label] += 1\n",
        "        else:\n",
        "            train_subset_dict[label] = 1\n",
        "\n",
        "print(train_subset_dict)"
      ]
    },
    {
      "cell_type": "code",
      "execution_count": null,
      "metadata": {
        "colab": {
          "base_uri": "https://localhost:8080/"
        },
        "id": "iwFKDQBzSNkA",
        "outputId": "e5d1afc9-e91a-4d9e-a127-da9a11922917"
      },
      "outputs": [
        {
          "output_type": "stream",
          "name": "stdout",
          "text": [
            "{2: 501, 5: 458, 0: 451, 7: 519, 6: 499, 1: 591, 8: 466, 3: 511, 9: 524, 4: 480}\n"
          ]
        }
      ],
      "source": [
        "# Use the original test dataset (with 10,000 images) object to obtain the number of label classes in test data\n",
        "test_num_labels = len(test_dataset.classes)\n",
        "\n",
        "# Creating DataLoader for test subset\n",
        "test_loader_bar_plot = DataLoader(test_subset, batch_size=len(test_subset), shuffle=True, num_workers=0)\n",
        "\n",
        "# Creating dictionary for test dataset\n",
        "test_subset_dict = {}\n",
        "for _, labels in test_loader_bar_plot:\n",
        "    for label in labels:\n",
        "        label = label.item()\n",
        "        if label in test_subset_dict:\n",
        "            test_subset_dict[label] += 1\n",
        "        else:\n",
        "            test_subset_dict[label] = 1\n",
        "print(test_subset_dict)"
      ]
    },
    {
      "cell_type": "markdown",
      "metadata": {
        "id": "9qy4qmuuSNkA"
      },
      "source": [
        "### 1.2.2 Visualize through bar charts\n",
        "This script visualizes the label frequencies of downsampled MNIST training and testing subsets using bar charts. It creates dataframes from the label dictionaries and plots the frequencies, adding value annotations for clarity\n"
      ]
    },
    {
      "cell_type": "code",
      "execution_count": null,
      "metadata": {
        "colab": {
          "base_uri": "https://localhost:8080/",
          "height": 564
        },
        "id": "AyzzS8y9SNkA",
        "outputId": "4bc1b1ce-9d45-4d65-b89e-1536f74606ba"
      },
      "outputs": [
        {
          "output_type": "display_data",
          "data": {
            "text/plain": [
              "<Figure size 800x600 with 1 Axes>"
            ],
            "image/png": "[encoded data removed]"
          },
          "metadata": {}
        }
      ],
      "source": [
        "# TRAIN Data\n",
        "\n",
        "import matplotlib.pyplot as plt\n",
        "\n",
        "train_subset_df = pd.DataFrame(list(train_subset_dict.items()), columns=['Labels', 'Frequency'])\n",
        "train_subset_df = train_subset_df.sort_values('Labels', ascending = True)\n",
        "\n",
        "plt.figure(figsize=(8, 6))\n",
        "\n",
        "bar_plot = sns.barplot(x='Labels', y='Frequency', data=train_subset_df)\n",
        "\n",
        "for index, value in enumerate(train_subset_df['Frequency']):\n",
        "        plt.text(index, value, str(value), color='black', ha='center', va='bottom')\n",
        "\n",
        "plt.title(\"Training set labels and corresponding frequencies\")\n",
        "\n",
        "plt.show()\n",
        "\n"
      ]
    },
    {
      "cell_type": "code",
      "execution_count": null,
      "metadata": {
        "colab": {
          "base_uri": "https://localhost:8080/",
          "height": 564
        },
        "id": "L8pNTb0CSNkB",
        "outputId": "6cd70cff-0f45-4f3c-d867-9a6956af42f2"
      },
      "outputs": [
        {
          "output_type": "display_data",
          "data": {
            "text/plain": [
              "<Figure size 800x600 with 1 Axes>"
            ],
            "image/png": "[encoded data removed]"
          },
          "metadata": {}
        }
      ],
      "source": [
        "# TEST Data\n",
        "\n",
        "test_subset_df = pd.DataFrame(list(test_subset_dict.items()), columns=['Labels', 'Frequency'])\n",
        "test_subset_df = test_subset_df.sort_values('Labels', ascending = True)\n",
        "\n",
        "plt.figure(figsize=(8, 6))\n",
        "\n",
        "bar_plot = sns.barplot(x='Labels', y='Frequency', data=test_subset_df)\n",
        "\n",
        "for index, value in enumerate(test_subset_df['Frequency']):\n",
        "        plt.text(index, value, str(value), color='black', ha='center', va='bottom')\n",
        "\n",
        "plt.title(\"Testing set labels and corresponding frequencies\")\n",
        "\n",
        "plt.show()\n"
      ]
    },
    {
      "cell_type": "markdown",
      "metadata": {
        "id": "xZsNFvUzSNkB"
      },
      "source": [
        "### 1.2.3 Visualize the Training Dataset\n",
        "This script visualizes a selection of images from the downsampled MNIST training subset by plotting grayscale images with their corresponding labels. It uses specific sample indices and displays the images in a 2x3 grid layout."
      ]
    },
    {
      "cell_type": "code",
      "execution_count": null,
      "metadata": {
        "colab": {
          "base_uri": "https://localhost:8080/",
          "height": 407
        },
        "id": "YiCn3XnXSNkB",
        "outputId": "2a8e55b3-4a50-44ef-fb8d-cd4431c796d9"
      },
      "outputs": [
        {
          "output_type": "display_data",
          "data": {
            "text/plain": [
              "<Figure size 800x400 with 6 Axes>"
            ],
            "image/png": "[encoded data removed]"
          },
          "metadata": {}
        }
      ],
      "source": [
        "torch.manual_seed(42)\n",
        "sample_idxs = [10, 300, 700, 2708, 5035, 8000]\n",
        "\n",
        "# loop through the length of tickers and keep track of index\n",
        "import matplotlib.pyplot as plt\n",
        "\n",
        "# Set overall figure size\n",
        "plt.figure(figsize=(8, 4))\n",
        "\n",
        "# Loop through sample indices and plot images\n",
        "for i, idx in enumerate(sample_idxs):\n",
        "    plt.subplot(2, 3, i + 1)\n",
        "    plt.imshow(train_dataset[idx][0].squeeze(), cmap='gray')  # Plot image in grayscale\n",
        "    plt.title(f'Label: {train_dataset[idx][1]}')\n",
        "    plt.axis('off')\n",
        "\n",
        "# Show plot\n",
        "plt.tight_layout()\n",
        "plt.show()\n"
      ]
    },
    {
      "cell_type": "markdown",
      "metadata": {
        "id": "efWfR1ZFvFGw"
      },
      "source": [
        "# **Part 2:** Classification Models"
      ]
    },
    {
      "cell_type": "markdown",
      "metadata": {
        "id": "GIytVVJbm3Ih"
      },
      "source": [
        "## 2.1 Logical Logistic Regression - Baseline"
      ]
    },
    {
      "cell_type": "markdown",
      "metadata": {
        "id": "5cVmxiP0m3In"
      },
      "source": [
        "### 2.1.1 Logistic Regression Model Architecture"
      ]
    },
    {
      "cell_type": "code",
      "execution_count": null,
      "metadata": {
        "id": "8vIXliDkm3Io"
      },
      "outputs": [],
      "source": [
        "import torch\n",
        "import torch.nn as nn\n",
        "\n",
        "class LogReg(nn.Module):\n",
        "    def __init__(self):\n",
        "        super().__init__()\n",
        "        self.flatten = nn.Flatten()\n",
        "        self.linear = nn.Linear(28*28, 10)\n",
        "        self.sigmoid = nn.Sigmoid()\n",
        "\n",
        "    def forward(self, x):\n",
        "        # implement the operations on input data\n",
        "        outputs = nn.Sequential(self.flatten, self.linear, self.sigmoid)(x)\n",
        "        return outputs"
      ]
    },
    {
      "cell_type": "markdown",
      "metadata": {
        "id": "Hd5MCDQtm3Ip"
      },
      "source": [
        "Let's print the model summary"
      ]
    },
    {
      "cell_type": "code",
      "execution_count": null,
      "metadata": {
        "colab": {
          "base_uri": "https://localhost:8080/"
        },
        "id": "BkIy0N4Wm3Iq",
        "outputId": "6797787b-3b37-4ad1-af9e-219560212c32"
      },
      "outputs": [
        {
          "output_type": "execute_result",
          "data": {
            "text/plain": [
              "LogReg(\n",
              "  (flatten): Flatten(start_dim=1, end_dim=-1)\n",
              "  (linear): Linear(in_features=784, out_features=10, bias=True)\n",
              "  (sigmoid): Sigmoid()\n",
              ")"
            ]
          },
          "metadata": {},
          "execution_count": 22
        }
      ],
      "source": [
        "LogReg()"
      ]
    },
    {
      "cell_type": "markdown",
      "metadata": {
        "id": "jesvQ9qBm3Ir"
      },
      "source": [
        "### 2.1.2 Training Logistic Regression Model\n",
        "This script trains a logistic regression model on the downsampled MNIST dataset using PyTorch, iterating over 10 epochs. It tracks and prints the loss and accuracy for each epoch, storing these metrics for further analysis.\n",
        "\n"
      ]
    },
    {
      "cell_type": "code",
      "execution_count": null,
      "metadata": {
        "colab": {
          "base_uri": "https://localhost:8080/"
        },
        "id": "tmdlh86xm3Ir",
        "outputId": "a6677cc7-89e1-4259-adf8-591b32af9c38"
      },
      "outputs": [
        {
          "output_type": "stream",
          "name": "stdout",
          "text": [
            "The loss for Epoch 0 is: 2.1079002537452842, Accuracy = 43.913333333333334\n",
            "The loss for Epoch 1 is: 1.9496660491805087, Accuracy = 58.64\n",
            "The loss for Epoch 2 is: 1.8963445168314204, Accuracy = 60.69\n",
            "The loss for Epoch 3 is: 1.8690196712896514, Accuracy = 61.526666666666664\n",
            "The loss for Epoch 4 is: 1.8513911060178712, Accuracy = 62.153333333333336\n",
            "The loss for Epoch 5 is: 1.8374765219210563, Accuracy = 62.77\n",
            "The loss for Epoch 6 is: 1.8292158544699013, Accuracy = 63.05\n",
            "The loss for Epoch 7 is: 1.8219611494780095, Accuracy = 63.223333333333336\n",
            "The loss for Epoch 8 is: 1.8135018902800992, Accuracy = 63.63666666666666\n",
            "The loss for Epoch 9 is: 1.8115032949427297, Accuracy = 63.343333333333334\n",
            "CPU times: user 6min 7s, sys: 1.47 s, total: 6min 9s\n",
            "Wall time: 6min 13s\n"
          ]
        }
      ],
      "source": [
        "%%time\n",
        "# Sending the data to device (CPU or GPU)\n",
        "# Step 1: instantiate the logistic regression to variable logreg\n",
        "\n",
        "logreg = LogReg().to(device)\n",
        "\n",
        "# Step 2: set the loss criterion as CrossEntropyLoss\n",
        "criterion = nn.CrossEntropyLoss()\n",
        "\n",
        "optimizer = optim.Adam(logreg.parameters(), lr=1e-4) #lr - learning step\n",
        "epoch = 10\n",
        "\n",
        "loss_LIST_log = []\n",
        "acc_LIST_log = []\n",
        "\n",
        "# Train the Logistic Regression\n",
        "for epoch in range(epoch):\n",
        "  running_loss = 0.0\n",
        "  correct = 0\n",
        "  total = 0\n",
        "  for inputs, labels in train_loader:\n",
        "      labels = labels.type(torch.LongTensor) # Cast to Float\n",
        "      inputs, labels = inputs.to(device), labels.to(device)\n",
        "\n",
        "      # Step 1: Reset the optimizer tensor gradient every mini-batch\n",
        "      optimizer.zero_grad()\n",
        "      # Step 2: Feed the network the train data\n",
        "      outputs = logreg(inputs)\n",
        "      # Step 3: Get the prediction using argmax\n",
        "      predicted = torch.max(outputs.data, 1)\n",
        "      # Step 4: Find average loss for one mini-batch of inputs\n",
        "      loss = criterion(outputs, labels)\n",
        "      # Step 5: Do a back propagation\n",
        "      loss.backward()\n",
        "      # Step 6: Update the weight using the gradients from back propagation by learning step\n",
        "      optimizer.step()\n",
        "      # Step 7: Get loss and add to accumulated loss for each epoch\n",
        "      running_loss += loss.item()\n",
        "      # Step 8: Get number of correct prediction and increment the number of correct and total predictions after this batch\n",
        "      _, predicted = torch.max(outputs, 1)\n",
        "      total += labels.size(0)\n",
        "      correct += (predicted == labels).sum().item()\n",
        "\n",
        "  # Step 9: Calculate training accuracy for each epoch (should multiply by 100 to get percentage), store in variable called 'accuracy', and add to acc_LIST_log\n",
        "  accuracy = 100 * correct / total\n",
        "  if isinstance(accuracy, torch.Tensor):\n",
        "      accuracy = accuracy.item()  # Convert Tensor to float\n",
        "  acc_LIST_log.append(accuracy)\n",
        "  # Step 10: Get average loss for each epoch and add to loss_LIST_log\n",
        "  average_loss = running_loss / len(train_loader)\n",
        "  if isinstance(average_loss, torch.Tensor):\n",
        "      average_loss = average_loss.item()  # Convert Tensor to float\n",
        "  loss_LIST_log.append(average_loss)\n",
        "\n",
        "  # print statistics\n",
        "  print(\"The loss for Epoch {} is: {}, Accuracy = {}\".format(epoch, running_loss/len(train_loader), accuracy))\n"
      ]
    },
    {
      "cell_type": "markdown",
      "metadata": {
        "id": "e0LrNmOvm3Is"
      },
      "source": [
        "### 2.1.3 Plotting Training Accuracy vs Epochs for Logistic Regression\n",
        "This script visualizes the training accuracy of the logistic regression model over epochs using a line plot."
      ]
    },
    {
      "cell_type": "code",
      "execution_count": null,
      "metadata": {
        "colab": {
          "base_uri": "https://localhost:8080/",
          "height": 333
        },
        "id": "2VpyKMjem3Is",
        "outputId": "92d0bd3c-94ca-490b-86dd-19c7c3b10408"
      },
      "outputs": [
        {
          "output_type": "display_data",
          "data": {
            "text/plain": [
              "<Figure size 500x300 with 1 Axes>"
            ],
            "image/png": "[encoded data removed]"
          },
          "metadata": {}
        }
      ],
      "source": [
        "import matplotlib.pyplot as plt\n",
        "import seaborn as sns\n",
        "\n",
        "# Set the style of seaborn\n",
        "sns.set_style(\"whitegrid\")\n",
        "\n",
        "plt.figure(figsize=(5, 3))  # Set the figure size as per the specifications\n",
        "\n",
        "# Plot the accuracy vs epochs\n",
        "# Assuming 'acc_LIST_log' contains the accuracy values and epoch starts at 1\n",
        "plt.plot(range(1, len(acc_LIST_log) + 1), acc_LIST_log, marker='o', color='blue', label='Training Accuracy')\n",
        "\n",
        "# Add the title, and labels for the x and y axes\n",
        "plt.title('Training Accuracy vs Epochs')\n",
        "plt.xlabel('Epoch')\n",
        "plt.ylabel('Accuracy')\n",
        "\n",
        "# Starting epoch label at 1 for interpretability as per the specifications\n",
        "plt.xticks(range(1, len(acc_LIST_log) + 1))\n",
        "\n",
        "# Add a legend to the plot\n",
        "plt.legend()\n",
        "\n",
        "# Display the plot\n",
        "plt.show()\n"
      ]
    },
    {
      "cell_type": "markdown",
      "metadata": {
        "id": "IrJ6qz4Rm3It"
      },
      "source": [
        "### 2.1.4 Logistic Regression Model Accuracy\n",
        "\n",
        "Calculate the Test Accuracy for the Logistic Regression Model we trained above."
      ]
    },
    {
      "cell_type": "code",
      "execution_count": null,
      "metadata": {
        "colab": {
          "base_uri": "https://localhost:8080/"
        },
        "id": "sbAYsblXm3It",
        "outputId": "f676dbf4-64fc-4251-fdf8-efdd7972a530"
      },
      "outputs": [
        {
          "output_type": "stream",
          "name": "stdout",
          "text": [
            "Test Accuracy: 63.540000915527344\n"
          ]
        }
      ],
      "source": [
        "total = 0\n",
        "correct = 0\n",
        "with torch.no_grad():\n",
        "    for images, labels in test_loader:\n",
        "        labels = labels.type(torch.LongTensor) # Cast to Float\n",
        "        images, labels = images.to(device), labels.to(device)\n",
        "\n",
        "        # Get the output\n",
        "        outputs = logreg(images)\n",
        "\n",
        "        # Get the prediction using argmax\n",
        "        _, predicted = torch.max(outputs, 1)\n",
        "\n",
        "        # Get number of correct prediction and add to correct and total\n",
        "        total += labels.size(0)\n",
        "        correct += (predicted == labels).sum()\n",
        "\n",
        "# Calculate test accuracy for logistic regression (should multiple by 100)\n",
        "test_acc_log = (correct / total) * 100\n",
        "\n",
        "print('Test Accuracy: ' + str(test_acc_log.item()))"
      ]
    },
    {
      "cell_type": "markdown",
      "metadata": {
        "id": "QfbU0GmSm3Iv"
      },
      "source": [
        "### 2.2.1 Feedforward Neural Network Model Architecture (10 points)"
      ]
    },
    {
      "cell_type": "code",
      "execution_count": null,
      "metadata": {
        "id": "7ZVvgyJVm3Iv"
      },
      "outputs": [],
      "source": [
        "import torch.nn.functional as F\n",
        "class FNN(nn.Module):\n",
        "    def __init__(self):\n",
        "        super().__init__()\n",
        "        self.fc1 = nn.Linear(784, 256)\n",
        "        self.fc2 = nn.Linear(256, 10)\n",
        "\n",
        "    def forward(self, x):\n",
        "        x = x.view(x.size(0), -1)  # Flatten the input\n",
        "        x = F.relu(self.fc1(x))\n",
        "        outputs = self.fc2(x)\n",
        "\n",
        "        return outputs"
      ]
    },
    {
      "cell_type": "markdown",
      "metadata": {
        "id": "5rvgkSaTm3Iw"
      },
      "source": [
        "Let's print the model summary"
      ]
    },
    {
      "cell_type": "code",
      "execution_count": null,
      "metadata": {
        "colab": {
          "base_uri": "https://localhost:8080/"
        },
        "id": "g8Voqj1-m3Iw",
        "outputId": "c22d8ffd-e5d2-4ec7-9db7-51e443323fa8"
      },
      "outputs": [
        {
          "output_type": "execute_result",
          "data": {
            "text/plain": [
              "FNN(\n",
              "  (fc1): Linear(in_features=784, out_features=256, bias=True)\n",
              "  (fc2): Linear(in_features=256, out_features=10, bias=True)\n",
              ")"
            ]
          },
          "metadata": {},
          "execution_count": 31
        }
      ],
      "source": [
        "FNN()"
      ]
    },
    {
      "cell_type": "markdown",
      "metadata": {
        "id": "JUaHAHLum3Iw"
      },
      "source": [
        "### 2.2.2 Training FNN Model\n",
        "This script trains a Feedforward Neural Network (FNN) on the downsampled MNIST dataset using PyTorch over 10 epochs, tracking and printing the loss and accuracy for each epoch. The accuracy and average loss for each epoch are stored in lists for further analysis."
      ]
    },
    {
      "cell_type": "code",
      "execution_count": null,
      "metadata": {
        "id": "WSechmCnm3Ix",
        "colab": {
          "base_uri": "https://localhost:8080/"
        },
        "outputId": "efbc6164-4eec-4404-ccb6-ebaa64387a03"
      },
      "outputs": [
        {
          "output_type": "stream",
          "name": "stdout",
          "text": [
            "The loss for Epoch 0 is: 1.3375304211685652, Accuracy = 59.36666666666667\n",
            "The loss for Epoch 1 is: 0.9658641853312185, Accuracy = 70.00666666666666\n",
            "The loss for Epoch 2 is: 0.8416976358082249, Accuracy = 74.17333333333333\n",
            "The loss for Epoch 3 is: 0.7485736898267701, Accuracy = 77.04666666666667\n",
            "The loss for Epoch 4 is: 0.667777261118899, Accuracy = 79.56\n",
            "The loss for Epoch 5 is: 0.6176973614992618, Accuracy = 81.14\n",
            "The loss for Epoch 6 is: 0.5789060158643133, Accuracy = 82.54666666666667\n",
            "The loss for Epoch 7 is: 0.5285073295076773, Accuracy = 84.15666666666667\n",
            "The loss for Epoch 8 is: 0.5028075224428035, Accuracy = 84.78333333333333\n",
            "The loss for Epoch 9 is: 0.47335465563766993, Accuracy = 85.88666666666667\n",
            "CPU times: user 6min 10s, sys: 1.41 s, total: 6min 12s\n",
            "Wall time: 6min 13s\n"
          ]
        }
      ],
      "source": [
        "%%time\n",
        "# Sending the data to device (CPU or GPU)\n",
        "# Step 1: instantiate the FNN model to variable fnn\n",
        "fnn = FNN().to(device)\n",
        "# Step 2: set the loss criterion as CrossEntropyLoss\n",
        "criterion = nn.CrossEntropyLoss()\n",
        "optimizer = optim.Adam(fnn.parameters(), lr=1e-4) #lr - learning step\n",
        "epoch = 10\n",
        "\n",
        "acc_LIST_FNN = []\n",
        "loss_LIST_FNN = []\n",
        "\n",
        "# Train the FNN\n",
        "for epoch in range(epoch):\n",
        "  running_loss = 0.0\n",
        "  correct = 0\n",
        "  total = 0\n",
        "  for inputs, labels in train_loader:\n",
        "      labels = labels.type(torch.LongTensor) # Cast to Long\n",
        "      inputs, labels = inputs.to(device), labels.to(device)\n",
        "\n",
        "      # Step 1: Reset the optimizer tensor gradient every mini-batch\n",
        "      optimizer.zero_grad()\n",
        "      # Step 2: Feed the network the train data\n",
        "      outputs = fnn(inputs)\n",
        "      # Step 3: Get the prediction using argmax\n",
        "      _, predicted = torch.max(outputs, 1)\n",
        "      # Step 4: Find average loss for one mini-batch of inputs\n",
        "      loss = criterion(outputs, labels)\n",
        "      # Step 5: Do a back propagation\n",
        "      loss.backward()\n",
        "      # Step 6: Update the weight using the gradients from back propagation by learning step\n",
        "      optimizer.step()\n",
        "      # Step 7: Get loss and add to accumulated loss for each epoch\n",
        "      running_loss += loss.item()\n",
        "      # Step 8: Get number of correct prediction and increment the number of correct and total predictions after this batch\n",
        "      # Hint: we need to detach the numbers from GPU to CPU, which stores accuracy and loss\n",
        "      total += labels.size(0)\n",
        "      correct += (predicted == labels).sum().item()\n",
        "  # Step 9: Calculate training accuracy for each epoch (should multiply by 100 to get percentage), store in variable called 'accuracy', and add to acc_LIST_FNN\n",
        "  accuracy = 100 * correct / total\n",
        "  acc_LIST_FNN.append(accuracy)\n",
        "  # Step 10: Get average loss for each epoch and add to loss_LIST_FNN\n",
        "  average_loss = running_loss / len(train_loader)\n",
        "  loss_LIST_FNN.append(average_loss)\n",
        "\n",
        "  # print statistics\n",
        "  print(\"The loss for Epoch {} is: {}, Accuracy = {}\".format(epoch, running_loss/len(train_loader), accuracy))\n"
      ]
    },
    {
      "cell_type": "markdown",
      "metadata": {
        "id": "DY0zMmGAm3Ix"
      },
      "source": [
        "### 2.2.3 Plotting Training Accuracy vs Epochs FNN\n",
        "This script visualizes the training accuracy of the Feedforward Neural Network (FNN) over epochs using a line plot."
      ]
    },
    {
      "cell_type": "code",
      "execution_count": null,
      "metadata": {
        "id": "vIGWgoY3m3Ix",
        "colab": {
          "base_uri": "https://localhost:8080/",
          "height": 342
        },
        "outputId": "768a5196-dbf7-490e-a134-a678c594dad1"
      },
      "outputs": [
        {
          "output_type": "display_data",
          "data": {
            "text/plain": [
              "<Figure size 500x300 with 1 Axes>"
            ],
            "image/png": "[encoded data removed]"
          },
          "metadata": {}
        }
      ],
      "source": [
        "import matplotlib.pyplot as plt\n",
        "import seaborn as sns\n",
        "\n",
        "sns.set(style=\"whitegrid\")\n",
        "\n",
        "plt.figure(figsize=(5, 3))\n",
        "\n",
        "plt.plot(range(1, len(acc_LIST_FNN) + 1), acc_LIST_FNN, marker='o', linestyle='-', color='b', label='Training Accuracy')\n",
        "\n",
        "plt.title('Training Accuracy vs Epochs for FNN')\n",
        "\n",
        "plt.xlabel('Epoch')\n",
        "plt.ylabel('Accuracy')\n",
        "\n",
        "plt.xticks(range(1, len(acc_LIST_FNN) + 1))\n",
        "\n",
        "plt.legend()\n",
        "\n",
        "plt.show()\n"
      ]
    },
    {
      "cell_type": "markdown",
      "metadata": {
        "id": "_LCcYIAWm3Iy"
      },
      "source": [
        "### 2.2.4 FNN Model Accuracy\n",
        "\n",
        "Calculate the Test Accuracy for the FNN Model we trained above"
      ]
    },
    {
      "cell_type": "code",
      "execution_count": null,
      "metadata": {
        "id": "WAyibXsEm3Iy",
        "colab": {
          "base_uri": "https://localhost:8080/"
        },
        "outputId": "a63042e0-f671-48e3-f994-cdc6e1b52dd6"
      },
      "outputs": [
        {
          "output_type": "stream",
          "name": "stdout",
          "text": [
            "Test Accuracy: 86.53999328613281\n"
          ]
        }
      ],
      "source": [
        "total = 0\n",
        "correct = 0\n",
        "with torch.no_grad():\n",
        "    for images, labels in test_loader:\n",
        "        labels = labels.type(torch.LongTensor) # Cast to Float\n",
        "        images, labels = images.to(device), labels.to(device)\n",
        "\n",
        "        # Get the output\n",
        "        outputs = fnn(images)\n",
        "\n",
        "        # Get the prediction using argmax\n",
        "        _, predicted = torch.max(outputs.data, 1)\n",
        "\n",
        "        # Get number of correct prediction and add to correct and total\n",
        "        total += labels.size(0)\n",
        "        correct += (predicted == labels).sum()\n",
        "\n",
        "\n",
        "# Calculate test accuracy for FNN (should multiple by 100)\n",
        "test_acc_FNN = (correct / total) * 100\n",
        "print('Test Accuracy: ' + str(test_acc_FNN.item()))"
      ]
    },
    {
      "cell_type": "markdown",
      "metadata": {
        "id": "9gnLzDIWGiYv"
      },
      "source": [
        "##2.3 \"Convoluted\" Convolutional Neural Networks\n"
      ]
    },
    {
      "cell_type": "markdown",
      "metadata": {
        "id": "5hZ19uCgt5dV"
      },
      "source": [
        "### 2.3.0 Calculating Output Dimensions of Convolution and Pooling Layers"
      ]
    },
    {
      "cell_type": "code",
      "execution_count": null,
      "metadata": {
        "id": "A3drwoLht5dX"
      },
      "outputs": [],
      "source": [
        "import math\n",
        "\n",
        "def feature_map_dim(input_dim, padding, kernel_size, stride):\n",
        "  '''\n",
        "  The function takes in the following four parameters and return the dimension of the output feature map.\n",
        "\n",
        "  input_dim: height/width of the input image\n",
        "  kernel_size: size of the convolving kernel (aka. filter)\n",
        "  padding: padding added to all four sides of the input in order to preserve the edges/borders\n",
        "  stride: Stride of the convolution, or how many shifts per kernel\n",
        "\n",
        "  ROUND DOWN if the result if a fraction.\n",
        "\n",
        "  Notice there is another parameter, \"dilation\", which is the spacing between kernel elements. We have not covered this in class; simply set it to 1\n",
        "  '''\n",
        "  output_dim = math.floor((input_dim + 2*padding - (kernel_size - 1) - 1) / stride + 1)\n",
        "\n",
        "  return output_dim"
      ]
    },
    {
      "cell_type": "markdown",
      "metadata": {
        "id": "JCUg46_pt5dY"
      },
      "source": [
        "### 2.3.1 Convolutional Neural Network Model Architecture\n",
        "This script defines a Convolutional Neural Network (CNN) class in PyTorch, including two convolutional blocks, followed by flattening the 2D image into a 1D tensor and passing it through three fully-connected layers. The network structure includes activation functions and dropout layers to prevent overfitting."
      ]
    },
    {
      "cell_type": "code",
      "execution_count": null,
      "metadata": {
        "id": "TtjvdlRYt5dZ"
      },
      "outputs": [],
      "source": [
        "class CNN(nn.Module):\n",
        "    def __init__(self):\n",
        "        super().__init__()\n",
        "\n",
        "        # Step 1: Initialize 1 - 3 convolution blocks (consists of a convolution layer, an activation function, a MaxPooling layer)\n",
        "\n",
        "        ## you are encouraged to use the following comments to keep track of the output dimensions\n",
        "        # input dim = __ channels, with image size __ x __\n",
        "        # output dim = __ channels, with image size __ x __\n",
        "        # Convolution Block 1\n",
        "        self.conv1 = nn.Conv2d(1, 16, kernel_size=5, stride=1, padding=2)\n",
        "        self.bn1 = nn.BatchNorm2d(16)\n",
        "        self.relu1 = nn.ReLU()\n",
        "        self.pool1 = nn.MaxPool2d(kernel_size=2, stride=2)\n",
        "\n",
        "        # Convolution Block 2 ... Feel free to add 1 - 2 more convolution blocks\n",
        "        self.conv2 = nn.Conv2d(16, 32, kernel_size=5, stride=1, padding=2)\n",
        "        self.bn2 = nn.BatchNorm2d(32)\n",
        "        self.relu2 = nn.ReLU()\n",
        "        self.pool2 = nn.MaxPool2d(kernel_size=2, stride=2)\n",
        "\n",
        "        # Step 2: Flatten the 2D image into a 1D tensor\n",
        "        self.flatten = nn.Flatten()\n",
        "\n",
        "        # Step 3: Initialize 1-3 fully-connected layers\n",
        "        self.fc1 = nn.Linear(32 * 7 * 7, 120)\n",
        "        self.drop1 = nn.Dropout(0.5)  # Dropout to prevent overfitting\n",
        "        self.fc2 = nn.Linear(120, 84)\n",
        "        self.drop2 = nn.Dropout(0.5)  # Dropout to prevent overfitting\n",
        "        self.fc3 = nn.Linear(84, 10)\n",
        "\n",
        "    def forward(self, x):\n",
        "\n",
        "        # Step 1. Pass the images (x) through convolution block 1 and (block 2, 3 if you have built them)\n",
        "        x = self.pool1(self.bn1(self.relu1(self.conv1(x))))\n",
        "        x = self.pool2(self.bn2(self.relu2(self.conv2(x))))\n",
        "\n",
        "        # Step 2. Flatten the image\n",
        "        x = self.flatten(x)\n",
        "\n",
        "        # Step 3. Pass the output through the fully-connected layers (remember to include activation function(s))\n",
        "        x = x.view(-1, 32 * 7 * 7)\n",
        "        x = F.relu(self.fc1(x))\n",
        "        x = self.drop1(x)\n",
        "        x = F.relu(self.fc2(x))\n",
        "        x = self.drop2(x)\n",
        "        outputs = self.fc3(x)\n",
        "\n",
        "        return outputs"
      ]
    },
    {
      "cell_type": "markdown",
      "metadata": {
        "id": "wyo2eeWQt5dZ"
      },
      "source": [
        "Let's print out the model summary"
      ]
    },
    {
      "cell_type": "code",
      "execution_count": null,
      "metadata": {
        "id": "r4Fs6gzjt5dZ",
        "colab": {
          "base_uri": "https://localhost:8080/"
        },
        "outputId": "bedd9e6d-f7fc-4a34-b9cd-17331e86bd6a"
      },
      "outputs": [
        {
          "output_type": "execute_result",
          "data": {
            "text/plain": [
              "CNN(\n",
              "  (conv1): Conv2d(1, 16, kernel_size=(5, 5), stride=(1, 1), padding=(2, 2))\n",
              "  (bn1): BatchNorm2d(16, eps=1e-05, momentum=0.1, affine=True, track_running_stats=True)\n",
              "  (relu1): ReLU()\n",
              "  (pool1): MaxPool2d(kernel_size=2, stride=2, padding=0, dilation=1, ceil_mode=False)\n",
              "  (conv2): Conv2d(16, 32, kernel_size=(5, 5), stride=(1, 1), padding=(2, 2))\n",
              "  (bn2): BatchNorm2d(32, eps=1e-05, momentum=0.1, affine=True, track_running_stats=True)\n",
              "  (relu2): ReLU()\n",
              "  (pool2): MaxPool2d(kernel_size=2, stride=2, padding=0, dilation=1, ceil_mode=False)\n",
              "  (flatten): Flatten(start_dim=1, end_dim=-1)\n",
              "  (fc1): Linear(in_features=1568, out_features=120, bias=True)\n",
              "  (drop1): Dropout(p=0.5, inplace=False)\n",
              "  (fc2): Linear(in_features=120, out_features=84, bias=True)\n",
              "  (drop2): Dropout(p=0.5, inplace=False)\n",
              "  (fc3): Linear(in_features=84, out_features=10, bias=True)\n",
              ")"
            ]
          },
          "metadata": {},
          "execution_count": 42
        }
      ],
      "source": [
        "CNN()"
      ]
    },
    {
      "cell_type": "markdown",
      "metadata": {
        "id": "6O2dxIV5t5da"
      },
      "source": [
        "### 2.3.2 Training CNN Model\n",
        "This script trains a Convolutional Neural Network (CNN) on the downsampled MNIST dataset using PyTorch over 10 epochs, tracking and printing the loss and accuracy for each epoch. It resets the optimizer gradient, feeds the network with training data, computes the loss, performs backpropagation, and updates the model weights in each iteration. The training accuracy and average loss for each epoch are stored in lists for further analysis."
      ]
    },
    {
      "cell_type": "code",
      "execution_count": null,
      "metadata": {
        "id": "lW3e2k4Vt5da",
        "colab": {
          "base_uri": "https://localhost:8080/"
        },
        "outputId": "ec05f500-a831-4de4-fcb4-0a2ac49b8dc7"
      },
      "outputs": [
        {
          "output_type": "stream",
          "name": "stdout",
          "text": [
            "The loss for Epoch 0 is: 1.5242578712607753, Accuracy = 47.94\n",
            "The loss for Epoch 1 is: 0.7457397869909241, Accuracy = 76.47\n",
            "The loss for Epoch 2 is: 0.5157874319980393, Accuracy = 84.33666666666667\n",
            "The loss for Epoch 3 is: 0.4069268474700863, Accuracy = 87.91666666666667\n",
            "The loss for Epoch 4 is: 0.3536601733328945, Accuracy = 89.62666666666667\n",
            "The loss for Epoch 5 is: 0.3113443947264126, Accuracy = 91.07\n",
            "The loss for Epoch 6 is: 0.2776297550561077, Accuracy = 91.89\n",
            "The loss for Epoch 7 is: 0.25859674204514227, Accuracy = 92.51333333333334\n",
            "The loss for Epoch 8 is: 0.24789868967969025, Accuracy = 92.97\n",
            "The loss for Epoch 9 is: 0.2314060605697032, Accuracy = 93.43\n",
            "CPU times: user 6min 24s, sys: 1.55 s, total: 6min 25s\n",
            "Wall time: 6min 27s\n"
          ]
        }
      ],
      "source": [
        "%%time\n",
        "# Sending the data to device (CPU or GPU)\n",
        "\n",
        "# Step 1: instantiate the CNN model to variable cnn\n",
        "cnn = CNN().to(device)\n",
        "# Step 2: set the loss criterion as CrossEntropyLoss\n",
        "criterion = nn.CrossEntropyLoss()\n",
        "\n",
        "optimizer = optim.Adam(cnn.parameters(), lr=1e-4) #lr - learning step\n",
        "epoch = 10\n",
        "\n",
        "acc_LIST_CNN = []\n",
        "loss_LIST_CNN = []\n",
        "\n",
        "# Train the CNN\n",
        "for epoch in range(epoch):\n",
        "  running_loss = 0.0\n",
        "  correct = 0\n",
        "  total = 0\n",
        "  for inputs, labels in train_loader:\n",
        "      labels = labels.type(torch.LongTensor) # Cast to Float\n",
        "      inputs, labels = inputs.to(device), labels.to(device)\n",
        "      # Step 1: Reset the optimizer tensor gradient every mini-batch\n",
        "      optimizer.zero_grad()\n",
        "      # Step 2: Feed the network the train data\n",
        "      outputs = cnn(inputs)\n",
        "      # Step 3: Get the prediction using argmax\n",
        "      _, predicted = torch.max(outputs, 1)\n",
        "      # Step 4: Find average loss for one mini-batch of inputs\n",
        "      loss = criterion(outputs, labels)\n",
        "      # Step 5: Do a back propagation\n",
        "      loss.backward()\n",
        "      # Step 6: Update the weight using the gradients from back propagation by learning step\n",
        "      optimizer.step()\n",
        "      # Step 7: Get loss and add to accumulated loss for each epoch\n",
        "      running_loss += loss.item()\n",
        "      total += labels.size(0)\n",
        "      # Step 8: Get number of correct prediction and increment the number of correct and total predictions after this batch\n",
        "      # Hint: we need to detach the numbers from GPU to CPU, which stores accuracy and loss\n",
        "      correct += (predicted == labels).sum().item()\n",
        "  # Step 9: Calculate training accuracy for each epoch (should multiply by 100 to get percentage), store in variable called 'accuracy', and add to acc_LIST_CNN\n",
        "  accuracy = 100 * correct / total\n",
        "  acc_LIST_CNN.append(accuracy)\n",
        "  # Step 10: Get average loss for each epoch and add to loss_LIST_CNN\n",
        "  epoch_loss = running_loss / len(train_loader)\n",
        "  loss_LIST_CNN.append(epoch_loss)\n",
        "\n",
        "  # print statistics\n",
        "  print(\"The loss for Epoch {} is: {}, Accuracy = {}\".format(epoch, running_loss/len(train_loader), accuracy))\n"
      ]
    },
    {
      "cell_type": "markdown",
      "metadata": {
        "id": "wPowtEwjt5db"
      },
      "source": [
        "### 2.3.3 Plotting Training Accuracy vs Epochs CNN\n",
        "This script visualizes the training accuracy of the Convolutional Neural Network (CNN) over epochs using a line plot."
      ]
    },
    {
      "cell_type": "code",
      "execution_count": null,
      "metadata": {
        "id": "pBZOYpJJt5db",
        "colab": {
          "base_uri": "https://localhost:8080/"
        },
        "outputId": "ca03fc63-37e1-45bd-99b8-5c3be4025f3c"
      },
      "outputs": [
        {
          "output_type": "display_data",
          "data": {
            "text/plain": [
              "<Figure size 500x300 with 1 Axes>"
            ],
            "image/png": "[encoded data removed]"
          },
          "metadata": {}
        }
      ],
      "source": [
        "import matplotlib.pyplot as plt\n",
        "import seaborn as sns\n",
        "\n",
        "# Set the seaborn style for better aesthetics\n",
        "sns.set(style=\"whitegrid\")\n",
        "\n",
        "# Create a figure with specified size\n",
        "plt.figure(figsize=(5, 3))\n",
        "\n",
        "# Plot training accuracy vs epochs\n",
        "# Note: Epochs are assumed to start from 1 for better interpretability\n",
        "plt.plot(range(1, len(acc_LIST_CNN) + 1), acc_LIST_CNN, marker='o', linestyle='-', color='blue', label='Training Accuracy')\n",
        "\n",
        "# Add chart title and labels for axes\n",
        "plt.title('CNN Training Accuracy vs Epochs')\n",
        "plt.xlabel('Epoch')\n",
        "plt.ylabel('Accuracy')\n",
        "\n",
        "# Ensure the epoch labels start with 1\n",
        "plt.xticks(range(1, len(acc_LIST_CNN) + 1))\n",
        "\n",
        "# Add a legend\n",
        "plt.legend()\n",
        "\n",
        "# Show the plot\n",
        "plt.show()\n"
      ]
    },
    {
      "cell_type": "markdown",
      "metadata": {
        "id": "wCBs-UQ0t5db"
      },
      "source": [
        "### 2.3.4 CNN Model Test Accuracy\n",
        "\n",
        "Calculate the Test Accuracy for the CNN Model we trained above. Save it to the variable named `test_acc_CNN`."
      ]
    },
    {
      "cell_type": "code",
      "execution_count": null,
      "metadata": {
        "id": "-uG-m_1bt5dc",
        "colab": {
          "base_uri": "https://localhost:8080/"
        },
        "outputId": "3eabd8e9-5b34-4645-d90a-5fcc16f085ff"
      },
      "outputs": [
        {
          "output_type": "stream",
          "name": "stdout",
          "text": [
            "Test Accuracy: 94.5199966430664\n"
          ]
        }
      ],
      "source": [
        "\n",
        "total = 0\n",
        "correct = 0\n",
        "with torch.no_grad():\n",
        "    for images, labels in test_loader:\n",
        "        labels = labels.type(torch.LongTensor) # Cast to Float\n",
        "        images, labels = images.to(device), labels.to(device)\n",
        "        # Get the output\n",
        "        outputs = cnn(images)\n",
        "        # Get the prediction using argmax\n",
        "        _, predicted = torch.max(outputs, 1)\n",
        "        # Get number of correct prediction and add to correct and total\n",
        "        total += labels.size(0)\n",
        "        correct += (predicted == labels).sum()\n",
        "\n",
        "# Calculate test accuracy for CNN (should multiple by 100)\n",
        "test_acc_CNN = (correct / total) * 100\n",
        "\n",
        "print(f'Test Accuracy: ' + str(test_acc_CNN.item()))"
      ]
    },
    {
      "cell_type": "markdown",
      "metadata": {
        "id": "6zf6YZk3t5dc"
      },
      "source": [
        "## 2.4. Reflection\n"
      ]
    },
    {
      "cell_type": "markdown",
      "metadata": {
        "id": "rNLaEserlayE"
      },
      "source": [
        "\n",
        "Let's compare the model performance:\n",
        "\n",
        "From the test accuracies, we can see that FNN works better than Logistic Regression, and CNN works even better than FNN."
      ]
    },
    {
      "cell_type": "code",
      "execution_count": null,
      "metadata": {
        "id": "iZCBqWa6lJSb",
        "colab": {
          "base_uri": "https://localhost:8080/"
        },
        "outputId": "90eeef03-376f-49c3-d459-e6c261d7d2ba"
      },
      "outputs": [
        {
          "output_type": "stream",
          "name": "stdout",
          "text": [
            "Test Accuracy for Logistic Regression: 63.540000915527344\n",
            "Test Accuracy for FNN: 86.53999328613281\n",
            "Test Accuracy for CNN: 94.5199966430664\n"
          ]
        }
      ],
      "source": [
        "# Simply run this cell, please do not modify\n",
        "print(f'Test Accuracy for Logistic Regression: ' + str(test_acc_log.item()))\n",
        "print(f'Test Accuracy for FNN: ' + str(test_acc_FNN.item()))\n",
        "print(f'Test Accuracy for CNN: ' + str(test_acc_CNN.item()))"
      ]
    },
    {
      "cell_type": "markdown",
      "metadata": {
        "id": "qVKpT1nRvOP8"
      },
      "source": [
        "## 2.5 Confusion Matrix\n",
        "This script generates and prints a confusion matrix for the Convolutional Neural Network (CNN) model's predictions on the downsampled MNIST test dataset. The confusion matrix is created using actual and predicted labels and is presented in a pandas DataFrame for better readability"
      ]
    },
    {
      "cell_type": "markdown",
      "metadata": {
        "id": "HAbFnMXst_7i"
      },
      "source": [
        "### 2.5.1 Create a confusion matrix"
      ]
    },
    {
      "cell_type": "code",
      "execution_count": null,
      "metadata": {
        "id": "CVk7BesQt_7j",
        "colab": {
          "base_uri": "https://localhost:8080/"
        },
        "outputId": "97140634-d072-48cd-8855-7cb6fdeda4b8"
      },
      "outputs": [
        {
          "output_type": "stream",
          "name": "stdout",
          "text": [
            "                Predicted Class 0  Predicted Class 1  Predicted Class 2  \\\n",
            "Actual Class 0                436                  0                  3   \n",
            "Actual Class 1                  1                575                  3   \n",
            "Actual Class 2                  3                  1                467   \n",
            "Actual Class 3                  3                  1                  6   \n",
            "Actual Class 4                  0                  2                  4   \n",
            "Actual Class 5                  1                  1                  1   \n",
            "Actual Class 6                  5                  2                  2   \n",
            "Actual Class 7                  1                  5                 11   \n",
            "Actual Class 8                  3                  0                  4   \n",
            "Actual Class 9                  1                  2                  0   \n",
            "\n",
            "                Predicted Class 3  Predicted Class 4  Predicted Class 5  \\\n",
            "Actual Class 0                  1                  0                  1   \n",
            "Actual Class 1                  0                  1                  1   \n",
            "Actual Class 2                  2                  2                  0   \n",
            "Actual Class 3                487                  0                  7   \n",
            "Actual Class 4                  0                455                  0   \n",
            "Actual Class 5                  6                  5                426   \n",
            "Actual Class 6                  0                  2                  9   \n",
            "Actual Class 7                  2                  3                  1   \n",
            "Actual Class 8                  2                  1                  4   \n",
            "Actual Class 9                  1                  7                  7   \n",
            "\n",
            "                Predicted Class 6  Predicted Class 7  Predicted Class 8  \\\n",
            "Actual Class 0                  5                  2                  1   \n",
            "Actual Class 1                  1                  5                  4   \n",
            "Actual Class 2                  1                 17                  7   \n",
            "Actual Class 3                  0                  2                  3   \n",
            "Actual Class 4                  3                  4                  2   \n",
            "Actual Class 5                  8                  3                  6   \n",
            "Actual Class 6                474                  0                  4   \n",
            "Actual Class 7                  0                484                  2   \n",
            "Actual Class 8                  2                  0                443   \n",
            "Actual Class 9                  0                  6                  6   \n",
            "\n",
            "                Predicted Class 9  \n",
            "Actual Class 0                  2  \n",
            "Actual Class 1                  0  \n",
            "Actual Class 2                  1  \n",
            "Actual Class 3                  2  \n",
            "Actual Class 4                 10  \n",
            "Actual Class 5                  1  \n",
            "Actual Class 6                  1  \n",
            "Actual Class 7                 10  \n",
            "Actual Class 8                  7  \n",
            "Actual Class 9                494  \n"
          ]
        }
      ],
      "source": [
        "import pandas as pd\n",
        "import numpy as np\n",
        "from sklearn.metrics import confusion_matrix\n",
        "import torch\n",
        "\n",
        "def cm_generator(test_loader, model):\n",
        "    actuals = []\n",
        "    predictions = []\n",
        "\n",
        "    with torch.no_grad():  # No need to track gradients\n",
        "        for inputs, labels in test_loader:\n",
        "            inputs, labels = inputs.to(device), labels.to(device)\n",
        "            outputs = model(inputs)\n",
        "            _, predicted = torch.max(outputs, 1)\n",
        "            actuals.extend(labels.cpu().numpy())\n",
        "            predictions.extend(predicted.cpu().numpy())\n",
        "\n",
        "    cm = confusion_matrix(actuals, predictions)\n",
        "    confusion_matrix_df = pd.DataFrame(cm, index=[f'Actual Class {i}' for i in range(len(cm))],\n",
        "                                       columns=[f'Predicted Class {i}' for i in range(len(cm[0]))])\n",
        "\n",
        "    return confusion_matrix_df\n",
        "\n",
        "confusion_matrix_df = cm_generator(test_loader, cnn)\n",
        "\n",
        "print(confusion_matrix_df)\n"
      ]
    },
    {
      "cell_type": "markdown",
      "metadata": {
        "id": "bfz3myW0t_7k"
      },
      "source": [
        "### 2.5.2 Visualizing Confusion Matrix\n",
        "This script visualizes the confusion matrix for the CNN model's predictions on the MNIST test dataset using a heatmap.\n",
        "\n",
        "\n",
        "\n",
        "\n",
        "\n",
        "\n"
      ]
    },
    {
      "cell_type": "code",
      "execution_count": null,
      "metadata": {
        "id": "zMOQnqEAt_7k",
        "colab": {
          "base_uri": "https://localhost:8080/"
        },
        "outputId": "a7ff5026-fe4e-48c0-e2d0-9be5c27fa574"
      },
      "outputs": [
        {
          "output_type": "display_data",
          "data": {
            "text/plain": [
              "<Figure size 800x400 with 1 Axes>"
            ],
            "image/png": "[encoded data removed]"
          },
          "metadata": {}
        }
      ],
      "source": [
        "# Set the seaborn style for better aesthetics\n",
        "sns.set(style=\"white\")\n",
        "\n",
        "# Create a figure with specified size\n",
        "plt.figure(figsize=(8, 4))\n",
        "\n",
        "# Plot the heatmap\n",
        "sns.heatmap(confusion_matrix_df, annot=True, fmt=\"g\", cmap='Blues', cbar=False)\n",
        "\n",
        "# Add chart title and labels for axes\n",
        "plt.title('Confusion Matrix')\n",
        "plt.xlabel('Predicted')\n",
        "plt.ylabel('Actual')\n",
        "\n",
        "# Show the plot\n",
        "plt.show()\n"
      ]
    }
  ],
  "metadata": {
    "accelerator": "GPU",
    "colab": {
      "gpuType": "T4",
      "provenance": []
    },
    "kernelspec": {
      "display_name": "Python 3",
      "name": "python3"
    },
    "language_info": {
      "name": "python"
    }
  },
  "nbformat": 4,
  "nbformat_minor": 0
}
